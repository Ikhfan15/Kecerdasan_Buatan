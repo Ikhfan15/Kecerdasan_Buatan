git commit -m "Ganti nama file <Tugas Fuzzy> ke <tugasfuzzy>"
git push origin main


