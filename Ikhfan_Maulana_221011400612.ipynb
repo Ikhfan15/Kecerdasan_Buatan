{
 "cells": [
  {
   "cell_type": "code",
   "execution_count": 14,
   "id": "21e623cd-f64f-42d2-8a33-bfa476cfa51e",
   "metadata": {},
   "outputs": [],
   "source": [
    "company_detail_list = [\n",
    "    {\n",
    "        'name': 'Company 1',\n",
    "        'domain': 'Retail',\n",
    "        'country': 'United States'\n",
    "    },\n",
    "    {\n",
    "        'name': 'Company 2',\n",
    "        'domain': 'Technology',\n",
    "        'country': 'United Kingdom'\n",
    "    },\n",
    "    {\n",
    "        'name': 'Company 3',\n",
    "        'domain': 'Healthcare',\n",
    "        'country': 'United States'\n",
    "    }\n",
    "]\n",
    "\n",
    "employee_detail_list = [\n",
    "    {\n",
    "        'name': 'EMP-0001',\n",
    "        'first_name': 'John',\n",
    "        'last_name': 'Doe',\n",
    "        'full_name': 'John Doe',\n",
    "        'company': 'Company 1',\n",
    "        'nationality': 'Australia'\n",
    "    },\n",
    "    {\n",
    "        'name': 'EMP-0002',\n",
    "        'first_name': 'Tom',\n",
    "        'last_name': 'Smith',\n",
    "        'full_name': 'Tom Smith',\n",
    "        'company': 'Company 2',\n",
    "        'nationality': 'United States'\n",
    "    },\n",
    "    {\n",
    "        'name': 'EMP-0003',\n",
    "        'first_name': 'Andrew',\n",
    "        'last_name': 'Sebastian',\n",
    "        'full_name': 'Andrew Sebastian',\n",
    "        'company': 'Company 3',\n",
    "        'nationality': 'United States'\n",
    "    },\n",
    "    {\n",
    "        'name': 'EMP-0005',\n",
    "        'first_name': 'Ying Han',\n",
    "        'last_name': 'Tan',\n",
    "        'full_name': 'Ying Han Tan',\n",
    "        'company': 'Company 1',\n",
    "        'nationality': 'Australia'\n",
    "    },\n",
    "    {\n",
    "        'name': 'EMP-0015',\n",
    "        'first_name': 'Kenneth',\n",
    "        'last_name': 'Ng',\n",
    "        'full_name': 'Kenneth Ng',\n",
    "        'company': 'Company 3',\n",
    "        'nationality': 'United States'\n",
    "    },\n",
    "    {\n",
    "        'name': 'EMP-0018',\n",
    "        'first_name': 'Rubby',\n",
    "        'last_name': 'Lee',\n",
    "        'full_name': 'Rubby Lee',\n",
    "        'company': 'Company 2',\n",
    "        'nationality': 'Hong Kong'\n",
    "    },\n",
    "    {\n",
    "        'name': 'EMP-0017',\n",
    "        'first_name': 'Robert',\n",
    "        'last_name': 'White',\n",
    "        'full_name': 'Robert White',\n",
    "        'company': 'Company 1',\n",
    "        'nationality': 'United Kingdom'\n",
    "    }\n",
    "]"
   ]
  },
  {
   "cell_type": "code",
   "execution_count": 15,
   "id": "4e876326-46bc-4b42-9f87-0d66024cb0ed",
   "metadata": {},
   "outputs": [],
   "source": [
    "#Task 1\n",
    "def get_sorted_companies():\n",
    "    sorted_companies = sorted(company_detail_list, key=lambda x: x['name'], reverse=True)\n",
    "    return [{'name': company['name']} for company in sorted_companies]"
   ]
  },
  {
   "cell_type": "code",
   "execution_count": 16,
   "id": "e2c72134-d8ad-4d81-b268-1ac47eff6243",
   "metadata": {},
   "outputs": [
    {
     "name": "stdout",
     "output_type": "stream",
     "text": [
      "Soal 1:\n",
      "[{'name': 'Company 3'}, {'name': 'Company 2'}, {'name': 'Company 1'}]\n"
     ]
    }
   ],
   "source": [
    "# Hasil\n",
    "print(\"Soal 1:\")\n",
    "print(get_sorted_companies())"
   ]
  },
  {
   "cell_type": "code",
   "execution_count": 17,
   "id": "480df985-cab7-4391-8368-c80da5509b83",
   "metadata": {},
   "outputs": [],
   "source": [
    "#Task 2\n",
    "def print_company_domains():\n",
    "    for company in company_detail_list:\n",
    "        print(f\"{company['name']}: {company['domain']} ({company['country']})\")"
   ]
  },
  {
   "cell_type": "code",
   "execution_count": 18,
   "id": "45423787-d885-4fe8-98bf-9f524483935d",
   "metadata": {},
   "outputs": [
    {
     "name": "stdout",
     "output_type": "stream",
     "text": [
      "\n",
      "Soal 2:\n",
      "Company 1: Retail (United States)\n",
      "Company 2: Technology (United Kingdom)\n",
      "Company 3: Healthcare (United States)\n"
     ]
    }
   ],
   "source": [
    "# Hasil\n",
    "print(\"\\nSoal 2:\")\n",
    "print_company_domains()"
   ]
  },
  {
   "cell_type": "code",
   "execution_count": 19,
   "id": "523824b2-64a7-470a-838f-22e4bfa5de67",
   "metadata": {},
   "outputs": [],
   "source": [
    "#Task 3\n",
    "def get_employees_by_domain():\n",
    "    domain_employees = {}\n",
    "    for company in company_detail_list:\n",
    "        domain = company['domain']\n",
    "        employees = [emp['full_name'] for emp in employee_detail_list if emp['company'] == company['name']]\n",
    "        domain_employees[domain] = employees\n",
    "    return domain_employees"
   ]
  },
  {
   "cell_type": "code",
   "execution_count": 21,
   "id": "4b6ac3f1-30cc-48aa-a896-15b8369b835a",
   "metadata": {},
   "outputs": [
    {
     "name": "stdout",
     "output_type": "stream",
     "text": [
      "\n",
      "Soal 3:\n",
      "{'Retail': ['John Doe', 'Ying Han Tan', 'Robert White'], 'Technology': ['Tom Smith', 'Rubby Lee'], 'Healthcare': ['Andrew Sebastian', 'Kenneth Ng']}\n"
     ]
    }
   ],
   "source": [
    "# Hasil\n",
    "print(\"\\nSoal 3:\")\n",
    "print(get_employees_by_domain())"
   ]
  },
  {
   "cell_type": "code",
   "execution_count": 22,
   "id": "4147bd4b-043c-40aa-bc9c-39848925955c",
   "metadata": {},
   "outputs": [],
   "source": [
    "#Task 4\n",
    "def get_employees_with_company_country():\n",
    "    result = []\n",
    "    for emp in employee_detail_list:\n",
    "        company_country = next((comp['country'] for comp in company_detail_list if comp['name'] == emp['company']), None)\n",
    "        if company_country:\n",
    "            result.append({\n",
    "                'full_name': emp['full_name'],\n",
    "                'company': emp['company'],\n",
    "                'country': company_country\n",
    "            })\n",
    "    return result"
   ]
  },
  {
   "cell_type": "code",
   "execution_count": 23,
   "id": "a0f69ff9-6494-4da9-a3de-16d6b6adf96e",
   "metadata": {},
   "outputs": [
    {
     "name": "stdout",
     "output_type": "stream",
     "text": [
      "\n",
      "Hasil:\n",
      "[{'full_name': 'John Doe', 'company': 'Company 1', 'country': 'United States'}, {'full_name': 'Tom Smith', 'company': 'Company 2', 'country': 'United Kingdom'}, {'full_name': 'Andrew Sebastian', 'company': 'Company 3', 'country': 'United States'}, {'full_name': 'Ying Han Tan', 'company': 'Company 1', 'country': 'United States'}, {'full_name': 'Kenneth Ng', 'company': 'Company 3', 'country': 'United States'}, {'full_name': 'Rubby Lee', 'company': 'Company 2', 'country': 'United Kingdom'}, {'full_name': 'Robert White', 'company': 'Company 1', 'country': 'United States'}]\n"
     ]
    }
   ],
   "source": [
    "# Hasil\n",
    "print(\"\\nHasil:\")\n",
    "print(get_employees_with_company_country())"
   ]
  },
  {
   "cell_type": "code",
   "execution_count": 24,
   "id": "0e219f48-59ee-4c20-b96a-47e2c4ea834e",
   "metadata": {},
   "outputs": [],
   "source": [
    "#Task 5\n",
    "from collections import defaultdict\n",
    "\n",
    "def get_company_employee_nationality_count():\n",
    "    company_nationality_count = []\n",
    "    for company in company_detail_list:\n",
    "        nationality_count = defaultdict(int)\n",
    "        for emp in employee_detail_list:\n",
    "            if emp['company'] == company['name']:\n",
    "                nationality_count[emp['nationality']] += 1\n",
    "        company_nationality_count.append({\n",
    "            'company': company['name'],\n",
    "            'employee_nationality': dict(nationality_count)\n",
    "        })\n",
    "    return company_nationality_count"
   ]
  },
  {
   "cell_type": "code",
   "execution_count": 25,
   "id": "4e0b651a-2981-4580-a428-f18966bf116c",
   "metadata": {},
   "outputs": [
    {
     "name": "stdout",
     "output_type": "stream",
     "text": [
      "\n",
      "Soal 5:\n",
      "[{'company': 'Company 1', 'employee_nationality': {'Australia': 2, 'United Kingdom': 1}}, {'company': 'Company 2', 'employee_nationality': {'United States': 1, 'Hong Kong': 1}}, {'company': 'Company 3', 'employee_nationality': {'United States': 2}}]\n"
     ]
    }
   ],
   "source": [
    "# Hasil\n",
    "print(\"\\nSoal 5:\")\n",
    "print(get_company_employee_nationality_count())"
   ]
  },
  {
   "cell_type": "code",
   "execution_count": null,
   "id": "c7bb7a7d-4dac-44fa-b7cf-30c1362713ff",
   "metadata": {},
   "outputs": [],
   "source": []
  }
 ],
 "metadata": {
  "kernelspec": {
   "display_name": "Python 3 (ipykernel)",
   "language": "python",
   "name": "python3"
  },
  "language_info": {
   "codemirror_mode": {
    "name": "ipython",
    "version": 3
   },
   "file_extension": ".py",
   "mimetype": "text/x-python",
   "name": "python",
   "nbconvert_exporter": "python",
   "pygments_lexer": "ipython3",
   "version": "3.12.6"
  }
 },
 "nbformat": 4,
 "nbformat_minor": 5
}
